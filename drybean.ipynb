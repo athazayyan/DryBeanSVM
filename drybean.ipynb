{
 "cells": [
  {
   "cell_type": "code",
   "execution_count": 5,
   "metadata": {},
   "outputs": [],
   "source": [
    "import kagglehub\n",
    "import pandas as pd\n",
    "import os\n",
    "import numpy as np"
   ]
  },
  {
   "cell_type": "code",
   "execution_count": 6,
   "metadata": {},
   "outputs": [
    {
     "name": "stdout",
     "output_type": "stream",
     "text": [
      "Path to dataset files: /home/ibnsuaidi/.cache/kagglehub/datasets/nimapourmoradi/dry-bean-dataset-classification/versions/1\n",
      "Files in dataset directory: ['Dry_Bean_Dataset.csv']\n"
     ]
    }
   ],
   "source": [
    "\n",
    "path = kagglehub.dataset_download(\"nimapourmoradi/dry-bean-dataset-classification\")\n",
    "print(\"Path to dataset files:\", path)\n",
    "files = os.listdir(path)\n",
    "print(\"Files in dataset directory:\", files)\n",
    "csv_file = os.path.join(path, 'Dry_Bean_Dataset.csv')  \n",
    "df = pd.read_csv(csv_file)\n"
   ]
  },
  {
   "cell_type": "code",
   "execution_count": 7,
   "metadata": {},
   "outputs": [
    {
     "data": {
      "text/html": [
       "<div>\n",
       "<style scoped>\n",
       "    .dataframe tbody tr th:only-of-type {\n",
       "        vertical-align: middle;\n",
       "    }\n",
       "\n",
       "    .dataframe tbody tr th {\n",
       "        vertical-align: top;\n",
       "    }\n",
       "\n",
       "    .dataframe thead th {\n",
       "        text-align: right;\n",
       "    }\n",
       "</style>\n",
       "<table border=\"1\" class=\"dataframe\">\n",
       "  <thead>\n",
       "    <tr style=\"text-align: right;\">\n",
       "      <th></th>\n",
       "      <th>Area</th>\n",
       "      <th>Perimeter</th>\n",
       "      <th>MajorAxisLength</th>\n",
       "      <th>MinorAxisLength</th>\n",
       "      <th>AspectRation</th>\n",
       "      <th>Eccentricity</th>\n",
       "      <th>ConvexArea</th>\n",
       "      <th>EquivDiameter</th>\n",
       "      <th>Extent</th>\n",
       "      <th>Solidity</th>\n",
       "      <th>roundness</th>\n",
       "      <th>Compactness</th>\n",
       "      <th>ShapeFactor1</th>\n",
       "      <th>ShapeFactor2</th>\n",
       "      <th>ShapeFactor3</th>\n",
       "      <th>ShapeFactor4</th>\n",
       "      <th>Class</th>\n",
       "    </tr>\n",
       "  </thead>\n",
       "  <tbody>\n",
       "    <tr>\n",
       "      <th>0</th>\n",
       "      <td>28395</td>\n",
       "      <td>610.291</td>\n",
       "      <td>208.178117</td>\n",
       "      <td>173.888747</td>\n",
       "      <td>1.197191</td>\n",
       "      <td>0.549812</td>\n",
       "      <td>28715</td>\n",
       "      <td>190.141097</td>\n",
       "      <td>0.763923</td>\n",
       "      <td>0.988856</td>\n",
       "      <td>0.958027</td>\n",
       "      <td>0.913358</td>\n",
       "      <td>0.007332</td>\n",
       "      <td>0.003147</td>\n",
       "      <td>0.834222</td>\n",
       "      <td>0.998724</td>\n",
       "      <td>SEKER</td>\n",
       "    </tr>\n",
       "    <tr>\n",
       "      <th>1</th>\n",
       "      <td>28734</td>\n",
       "      <td>638.018</td>\n",
       "      <td>200.524796</td>\n",
       "      <td>182.734419</td>\n",
       "      <td>1.097356</td>\n",
       "      <td>0.411785</td>\n",
       "      <td>29172</td>\n",
       "      <td>191.272751</td>\n",
       "      <td>0.783968</td>\n",
       "      <td>0.984986</td>\n",
       "      <td>0.887034</td>\n",
       "      <td>0.953861</td>\n",
       "      <td>0.006979</td>\n",
       "      <td>0.003564</td>\n",
       "      <td>0.909851</td>\n",
       "      <td>0.998430</td>\n",
       "      <td>SEKER</td>\n",
       "    </tr>\n",
       "    <tr>\n",
       "      <th>2</th>\n",
       "      <td>29380</td>\n",
       "      <td>624.110</td>\n",
       "      <td>212.826130</td>\n",
       "      <td>175.931143</td>\n",
       "      <td>1.209713</td>\n",
       "      <td>0.562727</td>\n",
       "      <td>29690</td>\n",
       "      <td>193.410904</td>\n",
       "      <td>0.778113</td>\n",
       "      <td>0.989559</td>\n",
       "      <td>0.947849</td>\n",
       "      <td>0.908774</td>\n",
       "      <td>0.007244</td>\n",
       "      <td>0.003048</td>\n",
       "      <td>0.825871</td>\n",
       "      <td>0.999066</td>\n",
       "      <td>SEKER</td>\n",
       "    </tr>\n",
       "    <tr>\n",
       "      <th>3</th>\n",
       "      <td>30008</td>\n",
       "      <td>645.884</td>\n",
       "      <td>210.557999</td>\n",
       "      <td>182.516516</td>\n",
       "      <td>1.153638</td>\n",
       "      <td>0.498616</td>\n",
       "      <td>30724</td>\n",
       "      <td>195.467062</td>\n",
       "      <td>0.782681</td>\n",
       "      <td>0.976696</td>\n",
       "      <td>0.903936</td>\n",
       "      <td>0.928329</td>\n",
       "      <td>0.007017</td>\n",
       "      <td>0.003215</td>\n",
       "      <td>0.861794</td>\n",
       "      <td>0.994199</td>\n",
       "      <td>SEKER</td>\n",
       "    </tr>\n",
       "    <tr>\n",
       "      <th>4</th>\n",
       "      <td>30140</td>\n",
       "      <td>620.134</td>\n",
       "      <td>201.847882</td>\n",
       "      <td>190.279279</td>\n",
       "      <td>1.060798</td>\n",
       "      <td>0.333680</td>\n",
       "      <td>30417</td>\n",
       "      <td>195.896503</td>\n",
       "      <td>0.773098</td>\n",
       "      <td>0.990893</td>\n",
       "      <td>0.984877</td>\n",
       "      <td>0.970516</td>\n",
       "      <td>0.006697</td>\n",
       "      <td>0.003665</td>\n",
       "      <td>0.941900</td>\n",
       "      <td>0.999166</td>\n",
       "      <td>SEKER</td>\n",
       "    </tr>\n",
       "  </tbody>\n",
       "</table>\n",
       "</div>"
      ],
      "text/plain": [
       "    Area  Perimeter  MajorAxisLength  MinorAxisLength  AspectRation  \\\n",
       "0  28395    610.291       208.178117       173.888747      1.197191   \n",
       "1  28734    638.018       200.524796       182.734419      1.097356   \n",
       "2  29380    624.110       212.826130       175.931143      1.209713   \n",
       "3  30008    645.884       210.557999       182.516516      1.153638   \n",
       "4  30140    620.134       201.847882       190.279279      1.060798   \n",
       "\n",
       "   Eccentricity  ConvexArea  EquivDiameter    Extent  Solidity  roundness  \\\n",
       "0      0.549812       28715     190.141097  0.763923  0.988856   0.958027   \n",
       "1      0.411785       29172     191.272751  0.783968  0.984986   0.887034   \n",
       "2      0.562727       29690     193.410904  0.778113  0.989559   0.947849   \n",
       "3      0.498616       30724     195.467062  0.782681  0.976696   0.903936   \n",
       "4      0.333680       30417     195.896503  0.773098  0.990893   0.984877   \n",
       "\n",
       "   Compactness  ShapeFactor1  ShapeFactor2  ShapeFactor3  ShapeFactor4  Class  \n",
       "0     0.913358      0.007332      0.003147      0.834222      0.998724  SEKER  \n",
       "1     0.953861      0.006979      0.003564      0.909851      0.998430  SEKER  \n",
       "2     0.908774      0.007244      0.003048      0.825871      0.999066  SEKER  \n",
       "3     0.928329      0.007017      0.003215      0.861794      0.994199  SEKER  \n",
       "4     0.970516      0.006697      0.003665      0.941900      0.999166  SEKER  "
      ]
     },
     "execution_count": 7,
     "metadata": {},
     "output_type": "execute_result"
    }
   ],
   "source": [
    "df.head()\n"
   ]
  },
  {
   "cell_type": "code",
   "execution_count": 8,
   "metadata": {},
   "outputs": [
    {
     "name": "stdout",
     "output_type": "stream",
     "text": [
      "Jumlah Outlier pada Kolom Area : 551\n",
      "Persentase Outlier pada Kolom Area : 4.048196311806627%\n",
      "---------------------------------------------\n",
      "Jumlah Outlier pada Kolom Perimeter : 500\n",
      "Persentase Outlier pada Kolom Perimeter : 3.673499375505106%\n",
      "---------------------------------------------\n",
      "Jumlah Outlier pada Kolom MajorAxisLength : 379\n",
      "Persentase Outlier pada Kolom MajorAxisLength : 2.7845125266328705%\n",
      "---------------------------------------------\n",
      "Jumlah Outlier pada Kolom MinorAxisLength : 569\n",
      "Persentase Outlier pada Kolom MinorAxisLength : 4.1804422893248105%\n",
      "---------------------------------------------\n",
      "Jumlah Outlier pada Kolom AspectRation : 473\n",
      "Persentase Outlier pada Kolom AspectRation : 3.475130409227831%\n",
      "---------------------------------------------\n",
      "Jumlah Outlier pada Kolom Eccentricity : 843\n",
      "Persentase Outlier pada Kolom Eccentricity : 6.193519947101609%\n",
      "---------------------------------------------\n",
      "Jumlah Outlier pada Kolom ConvexArea : 550\n",
      "Persentase Outlier pada Kolom ConvexArea : 4.040849313055617%\n",
      "---------------------------------------------\n",
      "Jumlah Outlier pada Kolom EquivDiameter : 526\n",
      "Persentase Outlier pada Kolom EquivDiameter : 3.864521343031372%\n",
      "---------------------------------------------\n",
      "Jumlah Outlier pada Kolom Extent : 275\n",
      "Persentase Outlier pada Kolom Extent : 2.0204246565278083%\n",
      "---------------------------------------------\n",
      "Jumlah Outlier pada Kolom Solidity : 778\n",
      "Persentase Outlier pada Kolom Solidity : 5.715965028285945%\n",
      "---------------------------------------------\n",
      "Jumlah Outlier pada Kolom roundness : 91\n",
      "Persentase Outlier pada Kolom roundness : 0.6685768863419294%\n",
      "---------------------------------------------\n",
      "Jumlah Outlier pada Kolom Compactness : 109\n",
      "Persentase Outlier pada Kolom Compactness : 0.8008228638601131%\n",
      "---------------------------------------------\n",
      "Jumlah Outlier pada Kolom ShapeFactor1 : 533\n",
      "Persentase Outlier pada Kolom ShapeFactor1 : 3.9159503342884436%\n",
      "---------------------------------------------\n",
      "Jumlah Outlier pada Kolom ShapeFactor2 : 0\n",
      "Persentase Outlier pada Kolom ShapeFactor2 : 0.0%\n",
      "---------------------------------------------\n",
      "Jumlah Outlier pada Kolom ShapeFactor3 : 195\n",
      "Persentase Outlier pada Kolom ShapeFactor3 : 1.4326647564469914%\n",
      "---------------------------------------------\n",
      "Jumlah Outlier pada Kolom ShapeFactor4 : 767\n",
      "Persentase Outlier pada Kolom ShapeFactor4 : 5.635148042024833%\n",
      "---------------------------------------------\n"
     ]
    }
   ],
   "source": [
    "def Jumlah_outlier(df, kolom):\n",
    "    Q1 = df[kolom].quantile(0.25)\n",
    "    Q3 = df[kolom].quantile(0.75)\n",
    "    iqr = Q3 - Q1\n",
    "    lower_bound = Q1 - (1.5 * iqr)\n",
    "    upper_bound = Q3 + (1.5 * iqr)\n",
    "    return df[(df[kolom] < lower_bound) | (df[kolom] > upper_bound)].shape[0]\n",
    "\n",
    "\n",
    "def persen_outlier(df, kolom):\n",
    "    quartile_1 = df[kolom].quantile(0.25)\n",
    "    quartile_3 = df[kolom].quantile(0.75)\n",
    "    iqr = quartile_3 - quartile_1\n",
    "    lower_bound = quartile_1 - 1.5 * iqr\n",
    "    upper_bound = quartile_3 + 1.5 * iqr\n",
    "\n",
    "    outliers = df[(df[kolom] < lower_bound) | (df[kolom] > upper_bound)]\n",
    "    persentase_outlier = (outliers.shape[0] / df.shape[0]) * 100\n",
    "    return persentase_outlier\n",
    "\n",
    "Kolom = ['Area', 'Perimeter', 'MajorAxisLength', 'MinorAxisLength', 'AspectRation', 'Eccentricity', 'ConvexArea', 'EquivDiameter', 'Extent', 'Solidity', 'roundness', 'Compactness', 'ShapeFactor1', 'ShapeFactor2', 'ShapeFactor3', 'ShapeFactor4']\n",
    "\n",
    "for col in Kolom:\n",
    "    print(f\"Jumlah Outlier pada Kolom {col} : {Jumlah_outlier(df, col)}\")\n",
    "    print(f\"Persentase Outlier pada Kolom {col} : {persen_outlier(df, col)}%\")\n",
    "    print(\"---------------------------------------------\")"
   ]
  },
  {
   "cell_type": "code",
   "execution_count": 9,
   "metadata": {},
   "outputs": [],
   "source": [
    "# handling outliers menggunakan metode IQR\n",
    "def handle_outliers_iqr(df, column):\n",
    "    Q1 = df[column].quantile(0.25)\n",
    "    Q3 = df[column].quantile(0.75)\n",
    "    IQR = Q3 - Q1\n",
    "\n",
    "    # Menentukan batas bawah dan batas atas\n",
    "    lower_bound = Q1 - 1.5 * IQR\n",
    "    upper_bound = Q3 + 1.5 * IQR\n",
    "\n",
    "    # Mengganti nilai outlier dengan nilai batas atas atau batas bawah terdekat\n",
    "    df[column] = np.where(df[column] < lower_bound, lower_bound, df[column])\n",
    "    df[column] = np.where(df[column] > upper_bound, upper_bound, df[column])\n",
    "\n",
    "\n",
    "Kolom_Hilang = ['Area', 'Perimeter', 'MajorAxisLength', 'MinorAxisLength', 'AspectRation', 'Eccentricity', 'ConvexArea', 'EquivDiameter', 'Extent', 'Solidity', 'roundness', 'Compactness', 'ShapeFactor1', 'ShapeFactor3', 'ShapeFactor4']\n",
    "\n",
    "# handling outlier pada kolom yang memiliki nilai outlier\n",
    "for column in Kolom_Hilang:\n",
    "  handle_outliers_iqr(df, column)"
   ]
  },
  {
   "cell_type": "code",
   "execution_count": 10,
   "metadata": {},
   "outputs": [
    {
     "name": "stdout",
     "output_type": "stream",
     "text": [
      "Jumlah Outlier pada Kolom Area : 0\n",
      "Persentase Outlier pada Kolom Area : 0.0%\n",
      "---------------------------------------------\n",
      "Jumlah Outlier pada Kolom Perimeter : 0\n",
      "Persentase Outlier pada Kolom Perimeter : 0.0%\n",
      "---------------------------------------------\n",
      "Jumlah Outlier pada Kolom MajorAxisLength : 0\n",
      "Persentase Outlier pada Kolom MajorAxisLength : 0.0%\n",
      "---------------------------------------------\n",
      "Jumlah Outlier pada Kolom MinorAxisLength : 0\n",
      "Persentase Outlier pada Kolom MinorAxisLength : 0.0%\n",
      "---------------------------------------------\n",
      "Jumlah Outlier pada Kolom AspectRation : 0\n",
      "Persentase Outlier pada Kolom AspectRation : 0.0%\n",
      "---------------------------------------------\n",
      "Jumlah Outlier pada Kolom Eccentricity : 0\n",
      "Persentase Outlier pada Kolom Eccentricity : 0.0%\n",
      "---------------------------------------------\n",
      "Jumlah Outlier pada Kolom ConvexArea : 0\n",
      "Persentase Outlier pada Kolom ConvexArea : 0.0%\n",
      "---------------------------------------------\n",
      "Jumlah Outlier pada Kolom EquivDiameter : 0\n",
      "Persentase Outlier pada Kolom EquivDiameter : 0.0%\n",
      "---------------------------------------------\n",
      "Jumlah Outlier pada Kolom Extent : 0\n",
      "Persentase Outlier pada Kolom Extent : 0.0%\n",
      "---------------------------------------------\n",
      "Jumlah Outlier pada Kolom Solidity : 0\n",
      "Persentase Outlier pada Kolom Solidity : 0.0%\n",
      "---------------------------------------------\n",
      "Jumlah Outlier pada Kolom roundness : 0\n",
      "Persentase Outlier pada Kolom roundness : 0.0%\n",
      "---------------------------------------------\n",
      "Jumlah Outlier pada Kolom Compactness : 0\n",
      "Persentase Outlier pada Kolom Compactness : 0.0%\n",
      "---------------------------------------------\n",
      "Jumlah Outlier pada Kolom ShapeFactor1 : 0\n",
      "Persentase Outlier pada Kolom ShapeFactor1 : 0.0%\n",
      "---------------------------------------------\n",
      "Jumlah Outlier pada Kolom ShapeFactor2 : 0\n",
      "Persentase Outlier pada Kolom ShapeFactor2 : 0.0%\n",
      "---------------------------------------------\n",
      "Jumlah Outlier pada Kolom ShapeFactor3 : 0\n",
      "Persentase Outlier pada Kolom ShapeFactor3 : 0.0%\n",
      "---------------------------------------------\n",
      "Jumlah Outlier pada Kolom ShapeFactor4 : 0\n",
      "Persentase Outlier pada Kolom ShapeFactor4 : 0.0%\n",
      "---------------------------------------------\n"
     ]
    }
   ],
   "source": [
    "Kolom = ['Area', 'Perimeter', 'MajorAxisLength', 'MinorAxisLength', 'AspectRation', 'Eccentricity', 'ConvexArea', 'EquivDiameter', 'Extent', 'Solidity', 'roundness', 'Compactness', 'ShapeFactor1', 'ShapeFactor2', 'ShapeFactor3', 'ShapeFactor4']\n",
    "\n",
    "for col in Kolom:\n",
    "    print(f\"Jumlah Outlier pada Kolom {col} : {Jumlah_outlier(df, col)}\")\n",
    "    print(f\"Persentase Outlier pada Kolom {col} : {persen_outlier(df, col)}%\")\n",
    "    print(\"---------------------------------------------\")"
   ]
  },
  {
   "cell_type": "code",
   "execution_count": 11,
   "metadata": {},
   "outputs": [
    {
     "data": {
      "text/plain": [
       "np.int64(68)"
      ]
     },
     "execution_count": 11,
     "metadata": {},
     "output_type": "execute_result"
    }
   ],
   "source": [
    "df.duplicated().sum()\n"
   ]
  },
  {
   "cell_type": "code",
   "execution_count": 12,
   "metadata": {},
   "outputs": [
    {
     "data": {
      "text/plain": [
       "np.int64(0)"
      ]
     },
     "execution_count": 12,
     "metadata": {},
     "output_type": "execute_result"
    }
   ],
   "source": [
    "df = df.drop_duplicates()\n",
    "df.duplicated().sum()"
   ]
  },
  {
   "cell_type": "code",
   "execution_count": 13,
   "metadata": {},
   "outputs": [
    {
     "name": "stdout",
     "output_type": "stream",
     "text": [
      "Class\n",
      "3    3546\n",
      "6    2636\n",
      "5    2027\n",
      "4    1860\n",
      "2    1630\n",
      "0    1322\n",
      "1     522\n",
      "Name: count, dtype: int64\n"
     ]
    }
   ],
   "source": [
    "from sklearn.preprocessing import LabelEncoder\n",
    "label = LabelEncoder()\n",
    "df['Class']= label.fit_transform(df['Class'])\n",
    "\n",
    "df.head()\n",
    "\n",
    "print(df['Class'].value_counts())"
   ]
  },
  {
   "cell_type": "markdown",
   "metadata": {},
   "source": [
    "\n",
    "**DERMASON    3546 = 3**\n",
    "\n",
    "**SIRA        2636 = 6**\n",
    "\n",
    "**SEKER       2027 = 5**\n",
    "\n",
    "**HOROZ       1928 = 4**\n",
    "\n",
    "**CALI        1630 = 2**\n",
    "\n",
    "**BARBUNYA    1322 = 0**\n",
    "\n",
    "**BOMBAY       522 = 1**\n",
    "\n"
   ]
  },
  {
   "cell_type": "code",
   "execution_count": null,
   "metadata": {},
   "outputs": [
    {
     "data": {
      "text/plain": [
       "(13543, 17)"
      ]
     },
     "execution_count": 17,
     "metadata": {},
     "output_type": "execute_result"
    }
   ],
   "source": [
    "from sklearn.preprocessing import MinMaxScaler\n",
    "scaler = MinMaxScaler()\n",
    "Kolom = ['Area', 'Perimeter', 'MajorAxisLength', 'MinorAxisLength', 'AspectRation', 'Eccentricity', 'ConvexArea', 'EquivDiameter', 'Extent', 'Solidity', 'roundness', 'Compactness', 'ShapeFactor1', 'ShapeFactor2', 'ShapeFactor3', 'ShapeFactor4']\n",
    "scaled_data = scaler.fit_transform(df[Kolom])\n",
    "df_scaled = pd.DataFrame(scaled_data, columns=Kolom)\n",
    "df_scaled['Class'] = df['Class'].values\n",
    "df_scaled.head()\n",
    "\n"
   ]
  },
  {
   "cell_type": "code",
   "execution_count": 18,
   "metadata": {},
   "outputs": [
    {
     "data": {
      "text/plain": [
       "(13543, 17)"
      ]
     },
     "execution_count": 18,
     "metadata": {},
     "output_type": "execute_result"
    }
   ],
   "source": [
    "df_scaled.shape"
   ]
  },
  {
   "cell_type": "code",
   "execution_count": 93,
   "metadata": {},
   "outputs": [],
   "source": [
    "from sklearn.model_selection import train_test_split\n",
    "\n",
    "X_train, X_test, y_train, y_test = train_test_split(df_scaled.drop(columns='Class'), df_scaled['Class'], test_size=0.2, random_state=181)"
   ]
  },
  {
   "cell_type": "code",
   "execution_count": 90,
   "metadata": {},
   "outputs": [],
   "source": [
    "from sklearn import svm\n",
    "\n",
    "\n",
    "clf = svm.SVC(kernel='linear')\n",
    "clf.fit(X_train, y_train)\n",
    "\n",
    "y_pred = clf.predict(X_test)"
   ]
  },
  {
   "cell_type": "code",
   "execution_count": 91,
   "metadata": {},
   "outputs": [
    {
     "name": "stdout",
     "output_type": "stream",
     "text": [
      "[[243   0  18   0   2   1   7]\n",
      " [  0 108   0   0   0   0   0]\n",
      " [  3   0 302   0   4   0   3]\n",
      " [  0   0   0 679   0  10  34]\n",
      " [  1   0   4   4 332   0   5]\n",
      " [  1   0   0   8   0 395  16]\n",
      " [  1   0   0  45   5   7 471]]\n"
     ]
    }
   ],
   "source": [
    "from sklearn import metrics\n",
    "cm = metrics.confusion_matrix(y_test, y_pred)\n",
    "print (cm)"
   ]
  },
  {
   "cell_type": "code",
   "execution_count": 92,
   "metadata": {},
   "outputs": [
    {
     "name": "stdout",
     "output_type": "stream",
     "text": [
      "Accuracy: 0.9339239571797712\n",
      "Precision: 0.9339239571797712\n",
      "Recall: 0.9339239571797712\n",
      "F1 Score: 0.9339239571797712\n"
     ]
    }
   ],
   "source": [
    "print(\"Accuracy:\", metrics.accuracy_score(y_test, y_pred))\n",
    "print(\"Precision:\", metrics.precision_score(y_test, y_pred, average='micro'))\n",
    "print(\"Recall:\", metrics.recall_score(y_test, y_pred, average='micro'))\n",
    "print(\"F1 Score:\", metrics.f1_score(y_test, y_pred, average='micro'))"
   ]
  },
  {
   "cell_type": "code",
   "execution_count": null,
   "metadata": {},
   "outputs": [],
   "source": []
  }
 ],
 "metadata": {
  "kernelspec": {
   "display_name": "Python 3",
   "language": "python",
   "name": "python3"
  },
  "language_info": {
   "codemirror_mode": {
    "name": "ipython",
    "version": 3
   },
   "file_extension": ".py",
   "mimetype": "text/x-python",
   "name": "python",
   "nbconvert_exporter": "python",
   "pygments_lexer": "ipython3",
   "version": "3.12.7"
  }
 },
 "nbformat": 4,
 "nbformat_minor": 2
}
